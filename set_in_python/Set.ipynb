{
 "cells": [
  {
   "cell_type": "markdown",
   "id": "16246d45-dc14-4120-bb63-d7d0f942c16e",
   "metadata": {},
   "source": [
    "### Set{ }"
   ]
  },
  {
   "cell_type": "code",
   "execution_count": 37,
   "id": "41e113c6-d3c7-4104-ac6b-a44d9fc788c8",
   "metadata": {},
   "outputs": [
    {
     "data": {
      "text/plain": [
       "{'ali', 'hasan', 'mohmmad'}"
      ]
     },
     "execution_count": 37,
     "metadata": {},
     "output_type": "execute_result"
    }
   ],
   "source": [
    "name={\"mohmmad\",\"ali\",\"hasan\"}\n",
    "name"
   ]
  },
  {
   "cell_type": "markdown",
   "id": "ad08f55f-a6f9-400a-a902-336a85c9e318",
   "metadata": {},
   "source": [
    "### Set( )"
   ]
  },
  {
   "cell_type": "code",
   "execution_count": 38,
   "id": "08bda877-5009-4b97-97ac-8d3af6c9729d",
   "metadata": {},
   "outputs": [
    {
     "data": {
      "text/plain": [
       "{'ali', 'hasan', 'mohmmad'}"
      ]
     },
     "execution_count": 38,
     "metadata": {},
     "output_type": "execute_result"
    }
   ],
   "source": [
    "myset=set((\"mohmmad\",\"ali\",\"hasan\"))\n",
    "myset"
   ]
  },
  {
   "cell_type": "markdown",
   "id": "558952d7-c550-44e3-bbca-fc30429064cf",
   "metadata": {},
   "source": [
    "#### Access values"
   ]
  },
  {
   "cell_type": "code",
   "execution_count": 39,
   "id": "a8514c5d-eab7-4f6c-999d-3bf9bead8a00",
   "metadata": {},
   "outputs": [
    {
     "name": "stdout",
     "output_type": "stream",
     "text": [
      "kalid\n",
      "ali\n",
      "mohmmad\n",
      "muna\n"
     ]
    }
   ],
   "source": [
    "students={\"kalid\",\"mohmmad\",\"ali\",\"muna\"}\n",
    "\n",
    "for s in students:\n",
    "    print(s)"
   ]
  },
  {
   "cell_type": "markdown",
   "id": "9c275fda-2653-4cf6-97ca-22335d7a663c",
   "metadata": {},
   "source": [
    "### Add New item"
   ]
  },
  {
   "cell_type": "code",
   "execution_count": 40,
   "id": "7430c4f0-661e-4aa4-9bf0-5e36465f81ce",
   "metadata": {},
   "outputs": [
    {
     "data": {
      "text/plain": [
       "{'c#', 'c++', 'java', 'php', 'python'}"
      ]
     },
     "execution_count": 40,
     "metadata": {},
     "output_type": "execute_result"
    }
   ],
   "source": [
    "p={\"python\",\"java\",\"c#\"}\n",
    "p.add(\"c++\")\n",
    "p.add(\"php\")\n",
    "p"
   ]
  },
  {
   "cell_type": "markdown",
   "id": "ad0f4e18-d486-41b5-81bb-c7329ac443c0",
   "metadata": {},
   "source": [
    "### update()"
   ]
  },
  {
   "cell_type": "code",
   "execution_count": 41,
   "id": "32f8bdd6-37f5-4c41-afb7-c687bef8b00b",
   "metadata": {},
   "outputs": [
    {
     "data": {
      "text/plain": [
       "{'five', 'four', 'one', 'sixe', 'three', 'two'}"
      ]
     },
     "execution_count": 41,
     "metadata": {},
     "output_type": "execute_result"
    }
   ],
   "source": [
    "number={\"one\",\"two\",\"three\"}\n",
    "number.update([\"four\",\"five\",\"sixe\"])\n",
    "number"
   ]
  },
  {
   "cell_type": "markdown",
   "id": "7d2363c3-859f-4ade-ab24-a4e146ef8b89",
   "metadata": {},
   "source": [
    "### Length of set"
   ]
  },
  {
   "cell_type": "code",
   "execution_count": 42,
   "id": "6713df83-2cac-4567-8790-9333daa80fef",
   "metadata": {},
   "outputs": [
    {
     "name": "stdout",
     "output_type": "stream",
     "text": [
      "6\n",
      "4\n",
      "5\n",
      "3\n"
     ]
    }
   ],
   "source": [
    "print(len(number))\n",
    "print(len(students))\n",
    "print(len(p))\n",
    "print(len(name))"
   ]
  },
  {
   "cell_type": "markdown",
   "id": "cc8a9872-e4c6-42f0-8e5e-45e4ad101b71",
   "metadata": {},
   "source": [
    "### Remove item"
   ]
  },
  {
   "cell_type": "code",
   "execution_count": 43,
   "id": "d9e25599-8e74-4548-a781-f3dd6bbb3351",
   "metadata": {},
   "outputs": [
    {
     "name": "stdout",
     "output_type": "stream",
     "text": [
      "{'kalid', 'ali'}\n",
      "{'ali'}\n",
      "set()\n"
     ]
    }
   ],
   "source": [
    "n={\"mohmmad\",\"kalid\",\"ali\"}\n",
    "n.remove(\"mohmmad\")\n",
    "print(n)\n",
    "n.pop()\n",
    "print(n)\n",
    "n.clear()\n",
    "print(n)"
   ]
  },
  {
   "cell_type": "markdown",
   "id": "d6162a89-904a-4a5b-98ac-d92fd1ce5e68",
   "metadata": {},
   "source": [
    "### Join sets"
   ]
  },
  {
   "cell_type": "code",
   "execution_count": 44,
   "id": "858b88a3-785a-4cb3-8400-207f09eaffc2",
   "metadata": {},
   "outputs": [
    {
     "name": "stdout",
     "output_type": "stream",
     "text": [
      "{'three', 'two', 'one', 'four'}\n"
     ]
    }
   ],
   "source": [
    "first={\"one\",\"two\"}\n",
    "second={\"three\",\"four\"}\n",
    "sets=first.union(second)\n",
    "print(sets)"
   ]
  }
 ],
 "metadata": {
  "kernelspec": {
   "display_name": "Python [conda env:base] *",
   "language": "python",
   "name": "conda-base-py"
  },
  "language_info": {
   "codemirror_mode": {
    "name": "ipython",
    "version": 3
   },
   "file_extension": ".py",
   "mimetype": "text/x-python",
   "name": "python",
   "nbconvert_exporter": "python",
   "pygments_lexer": "ipython3",
   "version": "3.12.7"
  }
 },
 "nbformat": 4,
 "nbformat_minor": 5
}
