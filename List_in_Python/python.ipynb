{
 "cells": [
  {
   "cell_type": "markdown",
   "id": "87d036aa-7637-4ad5-abd9-2ed3c08ae74f",
   "metadata": {},
   "source": [
    "# List"
   ]
  },
  {
   "cell_type": "markdown",
   "id": "cff80472-0862-46d0-969f-80b773e00406",
   "metadata": {},
   "source": [
    "### String list"
   ]
  },
  {
   "cell_type": "code",
   "execution_count": 100,
   "id": "e7b90e06-99b4-47cb-b6db-93cea331e5e7",
   "metadata": {},
   "outputs": [
    {
     "data": {
      "text/plain": [
       "['python', 'c++', 'c#', 'java', 'c', 'php']"
      ]
     },
     "execution_count": 100,
     "metadata": {},
     "output_type": "execute_result"
    }
   ],
   "source": [
    "list_por=[\"python\",\"c++\",\"c#\",\"java\",\"c\",\"php\"]\n",
    "list_por"
   ]
  },
  {
   "cell_type": "markdown",
   "id": "5de1ed96-1cf0-4cfe-bcc5-69cf0d2ec9b5",
   "metadata": {},
   "source": [
    "### Integer list"
   ]
  },
  {
   "cell_type": "code",
   "execution_count": 101,
   "id": "3bf70045-09a5-4d6c-873c-83b300518cd9",
   "metadata": {},
   "outputs": [
    {
     "data": {
      "text/plain": [
       "[1, 2, 3, 4, 5, 11, 22, 33, 44, 55]"
      ]
     },
     "execution_count": 101,
     "metadata": {},
     "output_type": "execute_result"
    }
   ],
   "source": [
    "list_number=[1,2,3,4,5,11,22,33,44,55]\n",
    "list_number"
   ]
  },
  {
   "cell_type": "markdown",
   "id": "694e03fa-ce07-47dd-93ce-3a538dfeecfe",
   "metadata": {},
   "source": [
    "### Random list string & integer"
   ]
  },
  {
   "cell_type": "code",
   "execution_count": 102,
   "id": "a93bb74b-3e6f-4467-bf4a-645b84214805",
   "metadata": {},
   "outputs": [
    {
     "data": {
      "text/plain": [
       "['Mohmmad', 22, 'Kalid', 32]"
      ]
     },
     "execution_count": 102,
     "metadata": {},
     "output_type": "execute_result"
    }
   ],
   "source": [
    "list1=[\"Mohmmad\",22,\"Kalid\",32]\n",
    "list1"
   ]
  },
  {
   "cell_type": "code",
   "execution_count": 103,
   "id": "19d7e902-4bbf-44b5-b7a3-35405803deb8",
   "metadata": {},
   "outputs": [
    {
     "data": {
      "text/plain": [
       "['mohmmad', 'kalid', 'ali']"
      ]
     },
     "execution_count": 103,
     "metadata": {},
     "output_type": "execute_result"
    }
   ],
   "source": [
    "name=list((\"mohmmad\",\"kalid\",\"ali\"))\n",
    "name"
   ]
  },
  {
   "cell_type": "markdown",
   "id": "4404d933-35f5-46ff-8f85-88030697e2ec",
   "metadata": {},
   "source": [
    "### Access values"
   ]
  },
  {
   "cell_type": "code",
   "execution_count": 104,
   "id": "4f290b7a-14d4-4893-9a3b-ef51e31e864b",
   "metadata": {},
   "outputs": [
    {
     "name": "stdout",
     "output_type": "stream",
     "text": [
      "mohmmad\n",
      "mahmmoud\n",
      "hasan\n",
      "ali\n"
     ]
    }
   ],
   "source": [
    "students=[\"mohmmad\",\"ali\",\"hasan\",\"mahmmoud\",\"kalid\"]\n",
    "print(students[0])\n",
    "print(students[3])\n",
    "print(students[2])\n",
    "print(students[1])"
   ]
  },
  {
   "cell_type": "markdown",
   "id": "1403cd49-8ac1-4bbe-a129-8a0ad2576e10",
   "metadata": {},
   "source": [
    "### Negative indexing"
   ]
  },
  {
   "cell_type": "code",
   "execution_count": 105,
   "id": "89231a54-52c7-4a2c-aad5-bdaf86c0040d",
   "metadata": {},
   "outputs": [
    {
     "name": "stdout",
     "output_type": "stream",
     "text": [
      "kalid\n",
      "mahmmoud\n",
      "hasan\n"
     ]
    }
   ],
   "source": [
    "print(students[-1])\n",
    "print(students[-2])\n",
    "print(students[-3])"
   ]
  },
  {
   "cell_type": "markdown",
   "id": "c80dc765-0bb4-4f95-8ff5-6106f3456ddf",
   "metadata": {},
   "source": [
    "### Range of indexes"
   ]
  },
  {
   "cell_type": "code",
   "execution_count": 106,
   "id": "da6fe4b4-eeb1-4d54-a879-43d0b1e93234",
   "metadata": {},
   "outputs": [
    {
     "name": "stdout",
     "output_type": "stream",
     "text": [
      "['mohmmad', 'ali']\n",
      "['mohmmad', 'ali', 'hasan']\n",
      "['ali', 'hasan', 'mahmmoud', 'kalid']\n"
     ]
    }
   ],
   "source": [
    "print(students[:2])\n",
    "print(students[0:3])\n",
    "print(students[1:])"
   ]
  },
  {
   "cell_type": "markdown",
   "id": "6ff355a0-d650-44d3-a87a-de0980107515",
   "metadata": {},
   "source": [
    "### Range of indexes"
   ]
  },
  {
   "cell_type": "code",
   "execution_count": 107,
   "id": "274f809a-a9b5-4faf-93f2-a65aae956ef2",
   "metadata": {},
   "outputs": [
    {
     "name": "stdout",
     "output_type": "stream",
     "text": [
      "['ali', 'hasan', 'mahmmoud']\n",
      "['mohmmad', 'ali', 'hasan', 'mahmmoud']\n",
      "['mohmmad', 'ali', 'hasan']\n",
      "['ali', 'hasan', 'mahmmoud']\n"
     ]
    }
   ],
   "source": [
    "print(students[-4:-1])\n",
    "print(students[:-1])\n",
    "print(students[-5:-2])\n",
    "print(students[1:-1])"
   ]
  },
  {
   "cell_type": "markdown",
   "id": "637a486c-8ab1-4cd8-8b95-e980a987bacd",
   "metadata": {},
   "source": [
    "### Change item values"
   ]
  },
  {
   "cell_type": "code",
   "execution_count": 108,
   "id": "3f7964ec-d068-47d3-8ffa-3001897800c8",
   "metadata": {},
   "outputs": [
    {
     "name": "stdout",
     "output_type": "stream",
     "text": [
      "['mohmmad', 'ali', 'hasan', 'mahmmoud', 'kalid']\n",
      "['Samer', 'ali', 'hasan', 'mahmmoud', 'kalid']\n"
     ]
    }
   ],
   "source": [
    "print(students)\n",
    "students[0]=\"Samer\"\n",
    "print(students)"
   ]
  },
  {
   "cell_type": "markdown",
   "id": "76908b56-6b1f-449d-a6dc-5e0167c99a76",
   "metadata": {},
   "source": [
    "### Add new item"
   ]
  },
  {
   "cell_type": "code",
   "execution_count": 109,
   "id": "bcbc8727-46ac-4ec8-84c1-0ccda03cf425",
   "metadata": {},
   "outputs": [
    {
     "name": "stdout",
     "output_type": "stream",
     "text": [
      "['Samer', 'ali', 'hasan', 'mahmmoud', 'kalid']\n",
      "['Samer', 'ali', 'hasan', 'mahmmoud', 'kalid', 'salem', 'obadda']\n"
     ]
    }
   ],
   "source": [
    "print(students)\n",
    "students.append(\"salem\")\n",
    "students.append(\"obadda\")\n",
    "print(students)"
   ]
  },
  {
   "cell_type": "code",
   "execution_count": 110,
   "id": "9817dc16-3025-4a46-bb00-9b2625d3453e",
   "metadata": {},
   "outputs": [
    {
     "name": "stdout",
     "output_type": "stream",
     "text": [
      "['Samer', 'ali', 'hasan', 'mahmmoud', 'kalid', 'salem', 'obadda']\n",
      "['Samer', 'ali', 'hasan', 'muna', 'mahmmoud', 'kalid', 'salem', 'obadda']\n"
     ]
    }
   ],
   "source": [
    "print(students)\n",
    "students.insert(3,\"muna\")\n",
    "print(students)"
   ]
  },
  {
   "cell_type": "markdown",
   "id": "8cbf3ca5-d500-4c0f-88c3-3008429f2a70",
   "metadata": {},
   "source": [
    "### Remove item"
   ]
  },
  {
   "cell_type": "code",
   "execution_count": 111,
   "id": "2a49edaa-bff2-49a6-9db0-3660a7836d59",
   "metadata": {},
   "outputs": [
    {
     "name": "stdout",
     "output_type": "stream",
     "text": [
      "['Samer', 'ali', 'hasan', 'muna', 'mahmmoud', 'kalid', 'salem', 'obadda']\n",
      "['Samer', 'hasan', 'muna', 'mahmmoud', 'kalid', 'salem', 'obadda']\n"
     ]
    }
   ],
   "source": [
    "print(students)\n",
    "students.remove(\"ali\")\n",
    "print(students)"
   ]
  },
  {
   "cell_type": "code",
   "execution_count": 112,
   "id": "8126f1d9-b299-4e98-b97d-9c1981ef385c",
   "metadata": {},
   "outputs": [
    {
     "name": "stdout",
     "output_type": "stream",
     "text": [
      "['Samer', 'hasan', 'muna', 'mahmmoud', 'kalid', 'salem', 'obadda']\n",
      "['Samer', 'hasan', 'muna', 'mahmmoud', 'kalid', 'salem']\n"
     ]
    }
   ],
   "source": [
    "print(students)\n",
    "students.pop()\n",
    "print(students)"
   ]
  },
  {
   "cell_type": "code",
   "execution_count": 113,
   "id": "8864d73f-96f3-4ebf-aceb-ab2ca469db5c",
   "metadata": {},
   "outputs": [
    {
     "name": "stdout",
     "output_type": "stream",
     "text": [
      "['Samer', 'hasan', 'muna', 'mahmmoud', 'kalid', 'salem']\n",
      "[]\n"
     ]
    }
   ],
   "source": [
    "print(students)\n",
    "students.clear()\n",
    "print(students)"
   ]
  },
  {
   "cell_type": "markdown",
   "id": "4fb92c33-7d7b-4969-9f8b-70e6e014c82d",
   "metadata": {},
   "source": [
    "### Copy list"
   ]
  },
  {
   "cell_type": "code",
   "execution_count": 114,
   "id": "d264bca4-d0b1-4aff-b893-84f90a4c3e60",
   "metadata": {},
   "outputs": [
    {
     "name": "stdout",
     "output_type": "stream",
     "text": [
      "['python', 'java', 'c', 'php']\n",
      "['python', 'java', 'c', 'php']\n"
     ]
    }
   ],
   "source": [
    "por=[\"python\",\"java\",\"c\",\"php\"]\n",
    "print(por)\n",
    "print(por.copy())"
   ]
  },
  {
   "cell_type": "markdown",
   "id": "e1a20faa-6575-4e75-938f-c4aab95298df",
   "metadata": {},
   "source": [
    "### Join two list"
   ]
  },
  {
   "cell_type": "code",
   "execution_count": 115,
   "id": "088d6e08-15da-4807-857e-3290fc721fa6",
   "metadata": {},
   "outputs": [
    {
     "name": "stdout",
     "output_type": "stream",
     "text": [
      "['python', 'java', 'c++', 'c']\n"
     ]
    }
   ],
   "source": [
    "p1=[\"python\",\"java\"]\n",
    "p2=[\"c++\",\"c\"]\n",
    "p3=p1+p2\n",
    "print(p3)"
   ]
  },
  {
   "cell_type": "code",
   "execution_count": 116,
   "id": "8d9def7e-a6f1-4657-94a3-de51c560012d",
   "metadata": {},
   "outputs": [
    {
     "name": "stdout",
     "output_type": "stream",
     "text": [
      "['python', 'java', 'c++', 'c']\n"
     ]
    }
   ],
   "source": [
    "p1.extend(p2)\n",
    "print(p1)"
   ]
  },
  {
   "cell_type": "code",
   "execution_count": 117,
   "id": "da84c5da-3693-4c5b-997f-ecb0c193e1c8",
   "metadata": {},
   "outputs": [
    {
     "name": "stdout",
     "output_type": "stream",
     "text": [
      "['python', 'java', 'c++', 'c', 'c++', 'c']\n"
     ]
    }
   ],
   "source": [
    "for j in p2:\n",
    "    p1.append(j)\n",
    "print(p1)"
   ]
  },
  {
   "cell_type": "markdown",
   "id": "a5832d7a-bafb-4657-a6ad-59e7a4add3ff",
   "metadata": {},
   "source": [
    "### List Length "
   ]
  },
  {
   "cell_type": "code",
   "execution_count": 120,
   "id": "66b7e489-4c13-4797-942e-727d5ddb1460",
   "metadata": {},
   "outputs": [
    {
     "name": "stdout",
     "output_type": "stream",
     "text": [
      "4\n",
      "6\n"
     ]
    }
   ],
   "source": [
    "print(len(por))\n",
    "print(len(p1))"
   ]
  },
  {
   "cell_type": "code",
   "execution_count": 121,
   "id": "10f72ada-fdbe-4cf2-bb7f-b5d3d4bdc581",
   "metadata": {},
   "outputs": [
    {
     "name": "stdout",
     "output_type": "stream",
     "text": [
      "python\n",
      "java\n",
      "c++\n",
      "c\n",
      "c++\n",
      "c\n"
     ]
    }
   ],
   "source": [
    "for p in p1:\n",
    "    print(p)"
   ]
  }
 ],
 "metadata": {
  "kernelspec": {
   "display_name": "Python [conda env:base] *",
   "language": "python",
   "name": "conda-base-py"
  },
  "language_info": {
   "codemirror_mode": {
    "name": "ipython",
    "version": 3
   },
   "file_extension": ".py",
   "mimetype": "text/x-python",
   "name": "python",
   "nbconvert_exporter": "python",
   "pygments_lexer": "ipython3",
   "version": "3.12.7"
  }
 },
 "nbformat": 4,
 "nbformat_minor": 5
}
